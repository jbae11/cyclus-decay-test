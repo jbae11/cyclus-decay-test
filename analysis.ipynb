{
 "cells": [
  {
   "cell_type": "code",
   "execution_count": 6,
   "metadata": {},
   "outputs": [],
   "source": [
    "import numpy as np\n",
    "import sqlite3 as lite\n",
    "from pyne import nucname"
   ]
  },
  {
   "cell_type": "code",
   "execution_count": 22,
   "metadata": {},
   "outputs": [
    {
     "name": "stdout",
     "output_type": "stream",
     "text": [
      "              :                                                               \n",
      "          .CL:CC CC             _Q     _Q  _Q_Q    _Q    _Q              _Q   \n",
      "        CC;CCCCCCCC:C;         /_\\)   /_\\)/_/\\\\)  /_\\)  /_\\)            /_\\)  \n",
      "        CCCCCCCCCCCCCl       __O|/O___O|/O_OO|/O__O|/O__O|/O____________O|/O__\n",
      "     CCCCCCf     iCCCLCC     /////////////////////////////////////////////////\n",
      "     iCCCt  ;;;;;.  CCCC                                                      \n",
      "    CCCC  ;;;;;;;;;. CClL.                          c                         \n",
      "   CCCC ,;;       ;;: CCCC  ;                   : CCCCi                       \n",
      "    CCC ;;         ;;  CC   ;;:                CCC`   `C;                     \n",
      "  lCCC ;;              CCCC  ;;;:             :CC .;;. C;   ;    :   ;  :;;   \n",
      "  CCCC ;.              CCCC    ;;;,           CC ;    ; Ci  ;    :   ;  :  ;  \n",
      "   iCC :;               CC       ;;;,        ;C ;       CC  ;    :   ; .      \n",
      "  CCCi ;;               CCC        ;;;.      .C ;       tf  ;    :   ;  ;.    \n",
      "  CCC  ;;               CCC          ;;;;;;; fC :       lC  ;    :   ;    ;:  \n",
      "   iCf ;;               CC         :;;:      tC ;       CC  ;    :   ;     ;  \n",
      "  fCCC :;              LCCf      ;;;:         LC :.  ,: C   ;    ;   ; ;   ;  \n",
      "  CCCC  ;;             CCCC    ;;;:           CCi `;;` CC.  ;;;; :;.;.  ; ,;  \n",
      "    CCl ;;             CC    ;;;;              CCC    CCL                     \n",
      "   tCCC  ;;        ;; CCCL  ;;;                  tCCCCC.                      \n",
      "    CCCC  ;;     :;; CCCCf  ;                     ,L                          \n",
      "     lCCC   ;;;;;;  CCCL                                                      \n",
      "     CCCCCC  :;;  fCCCCC                                                      \n",
      "      . CCCC     CCCC .                                                       \n",
      "       .CCCCCCCCCCCCCi                                                        \n",
      "          iCCCCCLCf                                                           \n",
      "           .  C. ,                                                            \n",
      "              :                                                               \n",
      "Experimental Warning: MatlSellPolicy is experimental and its API may be subject to change\n",
      "Experimental Warning: the Mixer archetype is experimental\n",
      "Experimental Warning: MatlBuyPolicy is experimental and its API may be subject to change\n",
      "Experimental Warning: MatlSellPolicy is experimental and its API may be subject to change\n",
      "Experimental Warning: The Storage Facility is experimental.\n",
      "Experimental Warning: MatlBuyPolicy is experimental and its API may be subject to change\n",
      "Experimental Warning: MatlSellPolicy is experimental and its API may be subject to change\n",
      "Experimental Warning: The Storage Facility is experimental.\n",
      "Experimental Warning: MatlBuyPolicy is experimental and its API may be subject to change\n",
      "Experimental Warning: MatlSellPolicy is experimental and its API may be subject to change\n",
      "Experimental Warning: The Storage Facility is experimental.\n",
      "Experimental Warning: MatlBuyPolicy is experimental and its API may be subject to change\n",
      "Experimental Warning: MatlSellPolicy is experimental and its API may be subject to change\n",
      "Experimental Warning: The Storage Facility is experimental.\n",
      "Experimental Warning: MatlBuyPolicy is experimental and its API may be subject to change\n",
      "Experimental Warning: MatlSellPolicy is experimental and its API may be subject to change\n",
      "Experimental Warning: The Storage Facility is experimental.\n",
      "Experimental Warning: MatlBuyPolicy is experimental and its API may be subject to change\n",
      "Experimental Warning: MatlSellPolicy is experimental and its API may be subject to change\n",
      "Experimental Warning: The Storage Facility is experimental.\n",
      "Experimental Warning: MatlBuyPolicy is experimental and its API may be subject to change\n",
      "Experimental Warning: MatlSellPolicy is experimental and its API may be subject to change\n",
      "Experimental Warning: The Storage Facility is experimental.\n",
      "Experimental Warning: MatlBuyPolicy is experimental and its API may be subject to change\n",
      "Experimental Warning: MatlSellPolicy is experimental and its API may be subject to change\n",
      "Experimental Warning: The Storage Facility is experimental.\n",
      "Experimental Warning: MatlBuyPolicy is experimental and its API may be subject to change\n",
      "Experimental Warning: MatlSellPolicy is experimental and its API may be subject to change\n",
      "Experimental Warning: The Storage Facility is experimental.\n",
      "Experimental Warning: MatlBuyPolicy is experimental and its API may be subject to change\n",
      "Experimental Warning: MatlSellPolicy is experimental and its API may be subject to change\n",
      "Experimental Warning: The Storage Facility is experimental.\n",
      "Experimental Warning: MatlBuyPolicy is experimental and its API may be subject to change\n",
      "Experimental Warning: MatlSellPolicy is experimental and its API may be subject to change\n",
      "Experimental Warning: The Storage Facility is experimental.\n",
      "\n",
      "Status: Cyclus run successful!\n",
      "Output location: cyclus.sqlite\n",
      "Simulation ID: 6d089eca-ad88-4418-a70a-567e3c15a7a4\n"
     ]
    }
   ],
   "source": [
    "# run cyclus input file\n",
    "! rm cyclus.sqlite\n",
    "! cyclus input.xml"
   ]
  },
  {
   "cell_type": "code",
   "execution_count": 23,
   "metadata": {},
   "outputs": [],
   "source": [
    "\n",
    "filename = 'cyclus.sqlite'\n",
    "con = lite.connect(filename)\n",
    "con.row_factory = lite.Row\n",
    "cur = con.cursor()"
   ]
  },
  {
   "cell_type": "code",
   "execution_count": 24,
   "metadata": {},
   "outputs": [
    {
     "name": "stdout",
     "output_type": "stream",
     "text": [
      "Sr90: 0.500000\n",
      "Cs137: 0.500000\n"
     ]
    }
   ],
   "source": [
    "# cs137 and sr90 - short lived\n",
    "\n",
    "# get cs composition before decay\n",
    "qualid = cur.execute('SELECT qualid from transactions '\n",
    "                     'INNER JOIN resources ON '\n",
    "                     'resources.resourceid = transactions.resourceid '\n",
    "                     'WHERE commodity = \"cs\" AND time = 1').fetchall()\n",
    "comp = cur.execute('SELECT * FROM compositions WHERE qualid = ' + str(qualid[0]['qualid'])).fetchall()\n",
    "for row in comp:\n",
    "    print('%s: %f' %(nucname.name(row['NucId']), row['MassFrac']))"
   ]
  },
  {
   "cell_type": "code",
   "execution_count": 25,
   "metadata": {},
   "outputs": [
    {
     "name": "stdout",
     "output_type": "stream",
     "text": [
      "Sr90: 0.383737\n",
      "Y90: 0.000097\n",
      "Zr90: 0.116164\n",
      "Cs137: 0.388118\n",
      "Ba137: 0.111884\n"
     ]
    }
   ],
   "source": [
    "# after `decayed' for 10 years\n",
    "qualid = cur.execute('SELECT qualid from transactions '\n",
    "                     'INNER JOIN resources ON '\n",
    "                     'resources.resourceid = transactions.resourceid '\n",
    "                     'WHERE commodity = \"cs_decayed\"').fetchall()\n",
    "comp = cur.execute('SELECT * FROM compositions WHERE qualid = ' + str(qualid[0]['qualid'])).fetchall()\n",
    "for row in comp:\n",
    "    print('%s: %f' %(nucname.name(row['NucId']), row['MassFrac']))"
   ]
  },
  {
   "cell_type": "code",
   "execution_count": 26,
   "metadata": {},
   "outputs": [
    {
     "name": "stdout",
     "output_type": "stream",
     "text": [
      "Pu241: 0.500000\n",
      "Am241: 0.500000\n"
     ]
    }
   ],
   "source": [
    "# Pu239 and Am241 - long lived\n",
    "\n",
    "# get cs composition before decay\n",
    "qualid = cur.execute('SELECT qualid from transactions '\n",
    "                     'INNER JOIN resources ON '\n",
    "                     'resources.resourceid = transactions.resourceid '\n",
    "                     'WHERE commodity = \"am\" AND time = 1').fetchall()\n",
    "comp = cur.execute('SELECT * FROM compositions WHERE qualid = ' + str(qualid[0]['qualid'])).fetchall()\n",
    "for row in comp:\n",
    "    print('%s: %f' %(nucname.name(row['NucId']), row['MassFrac']))"
   ]
  },
  {
   "cell_type": "code",
   "execution_count": 27,
   "metadata": {},
   "outputs": [
    {
     "name": "stdout",
     "output_type": "stream",
     "text": [
      "Kr83: 0.000000\n",
      "Mo95: 0.000000\n",
      "Tc99: 0.000000\n",
      "Ru99: 0.000000\n",
      "Ru101: 0.000000\n",
      "Ru103: 0.000000\n",
      "Ru106: 0.000000\n",
      "Rh103: 0.000000\n",
      "Rh105: 0.000000\n",
      "Rh106: 0.000000\n",
      "Pd105: 0.000000\n",
      "Pd106: 0.000000\n",
      "Pd107: 0.000000\n",
      "Pd108: 0.000000\n",
      "Ag107: 0.000000\n",
      "Ag109: 0.000000\n",
      "Cd113: 0.000000\n",
      "In113: 0.000000\n",
      "In115: 0.000000\n",
      "Sn115: 0.000000\n",
      "Sb125: 0.000000\n",
      "Te125: 0.000000\n",
      "Te127: 0.000000\n",
      "I127: 0.000000\n",
      "I135: 0.000000\n",
      "Xe131: 0.000000\n",
      "Xe134: 0.000000\n",
      "Xe135: 0.000000\n",
      "Xe136: 0.000000\n",
      "Cs133: 0.000000\n",
      "Cs134: 0.000000\n",
      "Cs135: 0.000000\n",
      "Cs137: 0.000000\n",
      "Ba134: 0.000000\n",
      "Ba135: 0.000000\n",
      "Ba137: 0.000000\n",
      "Ce140: 0.000000\n",
      "Nd143: 0.000000\n",
      "Nd144: 0.000000\n",
      "Nd145: 0.000000\n",
      "Pm147: 0.000000\n",
      "Pm148: 0.000000\n",
      "Pm149: 0.000000\n",
      "Sm147: 0.000000\n",
      "Sm148: 0.000000\n",
      "Sm149: 0.000000\n",
      "Sm150: 0.000000\n",
      "Sm151: 0.000000\n",
      "Sm152: 0.000000\n",
      "Sm154: 0.000000\n",
      "Eu151: 0.000000\n",
      "Eu152: 0.000000\n",
      "Eu153: 0.000000\n",
      "Eu154: 0.000000\n",
      "Eu155: 0.000000\n",
      "Gd152: 0.000000\n",
      "Gd154: 0.000000\n",
      "Gd155: 0.000000\n",
      "Gd156: 0.000000\n",
      "Gd157: 0.000000\n",
      "Gd158: 0.000000\n",
      "Dy160: 0.000000\n",
      "Dy161: 0.000000\n",
      "Dy162: 0.000000\n",
      "Dy163: 0.000000\n",
      "Dy164: 0.000000\n",
      "Ho165: 0.000000\n",
      "Er166: 0.000000\n",
      "Er167: 0.000000\n",
      "Tl205: 0.000000\n",
      "Tl207: 0.000000\n",
      "Tl209: 0.000000\n",
      "Pb207: 0.000000\n",
      "Pb209: 0.000000\n",
      "Bi209: 0.000000\n",
      "Bi211: 0.000000\n",
      "Bi213: 0.000000\n",
      "Po211: 0.000000\n",
      "Po213: 0.000000\n",
      "At217: 0.000000\n",
      "Rn217: 0.000000\n",
      "Fr221: 0.000000\n",
      "Ra225: 0.000000\n",
      "Ac225: 0.000000\n",
      "Th229: 0.000000\n",
      "Pa233: 0.000000\n",
      "U233: 0.000000\n",
      "U237: 0.000000\n",
      "Np237: 0.010523\n",
      "Pu241: 0.293841\n",
      "Am241: 0.695636\n"
     ]
    }
   ],
   "source": [
    "# after `decayed' for 10 years\n",
    "qualid = cur.execute('SELECT qualid from transactions '\n",
    "                     'INNER JOIN resources ON '\n",
    "                     'resources.resourceid = transactions.resourceid '\n",
    "                     'WHERE commodity = \"am_decayed\"').fetchall()\n",
    "comp = cur.execute('SELECT * FROM compositions WHERE qualid = ' + str(qualid[0]['qualid'])).fetchall()\n",
    "for row in comp:\n",
    "    print('%s: %f' %(nucname.name(row['NucId']), row['MassFrac']))"
   ]
  },
  {
   "cell_type": "code",
   "execution_count": null,
   "metadata": {},
   "outputs": [],
   "source": []
  }
 ],
 "metadata": {
  "kernelspec": {
   "display_name": "Python 3",
   "language": "python",
   "name": "python3"
  },
  "language_info": {
   "codemirror_mode": {
    "name": "ipython",
    "version": 3
   },
   "file_extension": ".py",
   "mimetype": "text/x-python",
   "name": "python",
   "nbconvert_exporter": "python",
   "pygments_lexer": "ipython3",
   "version": "3.6.5"
  }
 },
 "nbformat": 4,
 "nbformat_minor": 2
}
